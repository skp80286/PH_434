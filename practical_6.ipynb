{
 "cells": [
  {
   "cell_type": "markdown",
   "id": "a7bf5872",
   "metadata": {},
   "source": [
    "# 1. Simpson's method for integration"
   ]
  },
  {
   "cell_type": "code",
   "execution_count": 13,
   "id": "b0575159",
   "metadata": {},
   "outputs": [
    {
     "name": "stdout",
     "output_type": "stream",
     "text": [
      "0.5 step size to be used for integration\n",
      "integrating <function constant at 0x142603560> from 0 to 5 in 10 gives 5.0\n",
      "0.5 step size to be used for integration\n",
      "integrating <function same at 0x142603600> from 0 to 5 in 10 gives 12.5\n",
      "0.4 step size to be used for integration\n",
      "integrating <function func at 0x1426036a0> from 1 to 5 in 10 gives 53.281916871146045\n"
     ]
    }
   ],
   "source": [
    "import numpy as np\n",
    "\n",
    "def func(x):\n",
    "    return x*x*np.log(x)\n",
    "\n",
    "def constant(x):\n",
    "    return 1\n",
    "\n",
    "def same(x):\n",
    "    return x\n",
    "\n",
    "def simpson_integrate(f, a, b, n):\n",
    "    if n % 2 != 0: raise ValueError(f'n must be even! {n} is not even')\n",
    "    dx = (b - a)/n\n",
    "    print(f'{dx} step size to be used for integration')\n",
    "\n",
    "    sum = 0\n",
    "    x = a\n",
    "    for i in range(n+1):\n",
    "        x = a + i*dx\n",
    "        y = f(x)\n",
    "        if i == 0 or i == n:\n",
    "            sum += y\n",
    "\n",
    "        if i> 0 and i < n and i % 2 == 1:\n",
    "            sum += 4 * y\n",
    "        \n",
    "        if i < n-1 and i > 1 and i % 2 == 0:\n",
    "            sum += 2 * y\n",
    "        \n",
    "    return sum*dx/3\n",
    "\n",
    "# tests\n",
    "a=0\n",
    "b=5\n",
    "n=10\n",
    "f=constant\n",
    "print(f'integrating {f} from {a} to {b} in {n} gives {simpson_integrate(f, a, b, n)}')\n",
    "\n",
    "a=0\n",
    "b=5\n",
    "n=10\n",
    "f=same\n",
    "print(f'integrating {f} from {a} to {b} in {n} gives {simpson_integrate(f, a, b, n)}')\n",
    "\n",
    "a=1\n",
    "b=5\n",
    "n=10\n",
    "f=func\n",
    "print(f'integrating {f} from {a} to {b} in {n} gives {simpson_integrate(f, a, b, n)}')\n",
    "\n",
    "\n"
   ]
  },
  {
   "cell_type": "markdown",
   "id": "73de2d18",
   "metadata": {},
   "source": [
    "# 2. Trapezoidal rule"
   ]
  },
  {
   "cell_type": "code",
   "execution_count": 14,
   "id": "a892c9cd",
   "metadata": {},
   "outputs": [
    {
     "name": "stdout",
     "output_type": "stream",
     "text": [
      "0.09 step size to be used for integration\n",
      "integrating <function func at 0x1426036a0> from 1 to 10 using Simpson's formula in 100 gives 656.5283636766392\n",
      "integrating <function func at 0x1426036a0> from 1 to 10 using trapezoidal method in 100 gives 656.5655243940587\n",
      "integrating <function func at 0x1426036a0> from 1 to 10 using scipy.integrate.quad gives (656.5283643313485, 2.4278087771125437e-09)\n"
     ]
    }
   ],
   "source": [
    "\n",
    "def trapezoid_integrate(f, a, b, n):\n",
    "    dx = (b - a)/n\n",
    "    #print(f'{dx} step size to be used for integration')\n",
    "\n",
    "    sum = 0\n",
    "    x = a\n",
    "    for i in range(n+1):\n",
    "        x = a + i*dx\n",
    "        y = f(x)\n",
    "        if i == 0 or i == n:\n",
    "            sum += y\n",
    "\n",
    "        if i> 0 and i <n:\n",
    "            sum += 2 * y\n",
    "                \n",
    "    return sum*dx/2\n",
    "\n",
    "a=1\n",
    "b=10\n",
    "n=100\n",
    "f=func\n",
    "print(f'integrating {f} from {a} to {b} using Simpson\\'s formula in {n} gives {simpson_integrate(f, a, b, n)}')\n",
    "print(f'integrating {f} from {a} to {b} using trapezoidal method in {n} gives {trapezoid_integrate(f, a, b, n)}')\n",
    "\n",
    "from scipy import integrate as scipyint\n",
    "print(f'integrating {f} from {a} to {b} using scipy.integrate.quad gives {scipyint.quad(f, a, b)}')\n",
    "    \n"
   ]
  },
  {
   "cell_type": "markdown",
   "id": "6c9bbee0",
   "metadata": {},
   "source": [
    "# 3. Hamiltonian"
   ]
  },
  {
   "cell_type": "code",
   "execution_count": 38,
   "id": "6a7916cd",
   "metadata": {},
   "outputs": [
    {
     "name": "stdout",
     "output_type": "stream",
     "text": [
      "H=[[ 0.5+0.j  0. +0.j  0. +0.j  0. +0.j]\n",
      " [ 0. +0.j  0. +0.j  1. +0.j  0. +0.j]\n",
      " [ 0. +0.j  1. +0.j  0. +0.j  0. +0.j]\n",
      " [ 0. +0.j  0. +0.j  0. +0.j -0.5+0.j]]\n",
      "e_val=[ 1. +0.j -1. +0.j  0.5+0.j -0.5+0.j],\n",
      "e_vec=[[-0.        -0.j  0.        +0.j  1.        +0.j  0.        +0.j]\n",
      " [ 0.70710678+0.j  0.70710678+0.j  0.        +0.j  0.        +0.j]\n",
      " [ 0.70710678-0.j -0.70710678+0.j  0.        +0.j  0.        +0.j]\n",
      " [-0.        -0.j  0.        +0.j  0.        +0.j  1.        +0.j]]\n",
      "##########\n",
      "[[-0.        -0.j  0.        +0.j  1.        +0.j  0.        +0.j]\n",
      " [ 0.70710678+0.j  0.70710678+0.j  0.        +0.j  0.        +0.j]\n",
      " [ 0.70710678-0.j -0.70710678+0.j  0.        +0.j  0.        +0.j]\n",
      " [-0.        -0.j  0.        +0.j  0.        +0.j  1.        +0.j]]\n",
      "##########\n",
      "[[-0.        -0.j  0.70710678+0.j  0.70710678-0.j -0.        -0.j]\n",
      " [ 0.        +0.j  0.70710678+0.j -0.70710678+0.j  0.        +0.j]\n",
      " [ 1.        +0.j  0.        +0.j  0.        +0.j  0.        +0.j]\n",
      " [ 0.        +0.j  0.        +0.j  0.        +0.j  1.        +0.j]]\n",
      "##########\n",
      "[[ 1.00000000e+00+0.j  0.00000000e+00+0.j  0.00000000e+00+0.j\n",
      "   0.00000000e+00+0.j]\n",
      " [ 0.00000000e+00+0.j  1.00000000e+00+0.j -2.23711432e-17+0.j\n",
      "   0.00000000e+00+0.j]\n",
      " [ 0.00000000e+00+0.j -2.23711432e-17+0.j  1.00000000e+00+0.j\n",
      "   0.00000000e+00+0.j]\n",
      " [ 0.00000000e+00+0.j  0.00000000e+00+0.j  0.00000000e+00+0.j\n",
      "   1.00000000e+00+0.j]]\n",
      "The product is [[ 1.00000000e+00+0.j -1.67155782e-16+0.j  0.00000000e+00+0.j\n",
      "   0.00000000e+00+0.j]\n",
      " [-1.56386917e-16+0.j -1.00000000e+00+0.j  0.00000000e+00+0.j\n",
      "   0.00000000e+00+0.j]\n",
      " [ 0.00000000e+00+0.j  0.00000000e+00+0.j  5.00000000e-01+0.j\n",
      "   0.00000000e+00+0.j]\n",
      " [ 0.00000000e+00+0.j  0.00000000e+00+0.j  0.00000000e+00+0.j\n",
      "  -5.00000000e-01+0.j]]\n"
     ]
    }
   ],
   "source": [
    "sigma_x = np.array([[0, 1], [1, 0]], dtype=complex)\n",
    "sigma_y = np.array([[0, complex(0,-1)], [complex(0,1), 0]], dtype=complex)\n",
    "sigma_z = np.array([[1, 0], [0, -1]], dtype=complex)\n",
    "#print(f'sigma_x={sigma_x}')\n",
    "#print(f'sigma_y={sigma_y}')\n",
    "#print(f'sigma_z={sigma_z}')\n",
    "I = np.identity(2, dtype=complex)\n",
    "#print(f'I={I}')\n",
    "H = 0.5*(np.kron(sigma_x, sigma_x)+np.kron(sigma_y, sigma_y))+0.25*(np.kron(sigma_z, I) + np.kron(I, sigma_z))\n",
    "print(f'H={H}')\n",
    "\n",
    "import scipy.linalg as la\n",
    "\n",
    "e_val, e_vec = la.eig(H)\n",
    "print(f'e_val={e_val},\\ne_vec={e_vec}')\n",
    "\n",
    "P = np.array(e_vec, dtype=complex)\n",
    "P_inv = P.transpose()\n",
    "\n",
    "print('#'*10)\n",
    "print(P)\n",
    "print('#'*10)\n",
    "print(P_inv)\n",
    "print('#'*10)\n",
    "print(P@P_inv)\n",
    "product = P_inv @ (H @ P)\n",
    "\n",
    "print(f'The product is {product}')"
   ]
  },
  {
   "cell_type": "markdown",
   "id": "300f224a",
   "metadata": {},
   "source": [
    "# 4. Time evolution"
   ]
  },
  {
   "cell_type": "code",
   "execution_count": 47,
   "id": "dd66026b",
   "metadata": {},
   "outputs": [
    {
     "name": "stdout",
     "output_type": "stream",
     "text": [
      "psi=[0.70710678 0.         0.         0.70710678]\n",
      "psi_t=[0.70622308-0.03534061j 0.        +0.j         0.        +0.j\n",
      " 0.70622308+0.03534061j]\n",
      "1.4124461636742214\n"
     ]
    }
   ],
   "source": [
    "def time_evol(psi, t):\n",
    "    return la.expm(complex(0,-1)*H*t) @ psi\n",
    "\n",
    "# test\n",
    "mat10=np.array([1, 0])\n",
    "mat01=np.array([0, 1])\n",
    "psi = (1/np.sqrt(2))*(np.kron(mat10, mat10) + np.kron(mat01, mat01))\n",
    "\n",
    "psi_t = time_evol(psi, 0.1)\n",
    "\n",
    "print(f'psi={psi}\\npsi_t={psi_t}')\n",
    "\n",
    "print((1/np.sqrt(2))*(2*np.cos(0.05)))\n"
   ]
  },
  {
   "cell_type": "markdown",
   "id": "96407874",
   "metadata": {},
   "source": [
    "# Challenge"
   ]
  },
  {
   "cell_type": "code",
   "execution_count": 46,
   "id": "e26ed1e7",
   "metadata": {},
   "outputs": [
    {
     "name": "stdout",
     "output_type": "stream",
     "text": [
      "It takes 0 uses of the crane to transfer 0 boxes\n",
      "It takes 1 uses of the crane to transfer 1 boxes\n",
      "It takes 3 uses of the crane to transfer 2 boxes\n",
      "It takes 7 uses of the crane to transfer 3 boxes\n",
      "It takes 15 uses of the crane to transfer 4 boxes\n"
     ]
    }
   ],
   "source": [
    "def transfer(n):\n",
    "    \n",
    "    if n == 0: return 0 # nothing to transfer\n",
    "    \n",
    "    if n == 1: return 1 # just use crane once to trannsfer \n",
    "\n",
    "    # first transfer n-1 boxes to middle area, transfer the largest box to the second ship,\n",
    "    #  then transfer n-1 boxes from middle area to the second ship\n",
    "    return 2*transfer(n-1) + 1  \n",
    "\n",
    "for i in range (5):\n",
    "    print (f'It takes {transfer(i)} uses of the crane to transfer {i} boxes')"
   ]
  }
 ],
 "metadata": {
  "kernelspec": {
   "display_name": "base",
   "language": "python",
   "name": "python3"
  },
  "language_info": {
   "codemirror_mode": {
    "name": "ipython",
    "version": 3
   },
   "file_extension": ".py",
   "mimetype": "text/x-python",
   "name": "python",
   "nbconvert_exporter": "python",
   "pygments_lexer": "ipython3",
   "version": "3.12.2"
  }
 },
 "nbformat": 4,
 "nbformat_minor": 5
}
