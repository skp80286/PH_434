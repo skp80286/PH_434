{
 "cells": [
  {
   "cell_type": "markdown",
   "id": "e209ba72",
   "metadata": {},
   "source": [
    "### PH434 Autumn 2025 – Programming Lab.\n",
    "\n",
    "**Practical Class 7 (Dated: 03. 10. 2025)**"
   ]
  },
  {
   "cell_type": "markdown",
   "id": "fc846770",
   "metadata": {},
   "source": [
    "#### Question 1\n",
    "\n",
    "Consider two harmonic oscillators with displacements along the $x$ and $y$ axis, respectively. Using, $m_1 = m_2 = 1$ for the two oscillators, use a ODE solver to find the displacement of the two oscillators along the $x$ and $y$ axis.\n",
    "\n",
    "Using matplotlib, plot $x$ vs $y$ to create the Lissajous figures: a) $k_1 = 1$ and $k_2 = 1$, b) $k_1 = 1$ and $k_2 = 1/2$, and b) and $k_1 = 1$ and $k_2 = 1/4$."
   ]
  },
  {
   "cell_type": "markdown",
   "id": "d7fc9284-d57e-4e41-83c2-1bb8fe42581f",
   "metadata": {},
   "source": [
    "#### Question 2\n",
    "\n",
    "Solve the differential equation:\n",
    "\n",
    "$$ \\dfrac{dx_0}{dt} = \\sigma(x_1-x_0) $$\n",
    "\n",
    "$$ \\dfrac{dx_1}{dt} = x_0(\\rho - x_2) -  x_1 $$\n",
    "\n",
    "$$ \\dfrac{dx_2}{dt} = x_0 x_1 - \\beta x_2 $$ \n",
    "\n",
    "where $\\sigma, \\rho, \\beta = 5, 4, 1$, respectively. You can take the time, $t \\in [0,10]$. Plot $x_0$ vs $t$, and $x_1$ vs $x_2$. You can use the initial state to be $\\textbf{x} = [1,1,1]$.\n",
    " "
   ]
  },
  {
   "cell_type": "markdown",
   "id": "36159759-4afc-4f9e-9a89-afc246cb0585",
   "metadata": {},
   "source": [
    "#### Question 3\n",
    "\n",
    "Convert the second order differential equation to a set of ODEs and solve:\n",
    "\n",
    "$ \\dfrac{d^2y}{{dt}^2} + 3 \\dfrac{dy}{dt} + ty = \\cos(t)$, \n",
    "\n",
    "where $\\dfrac{dy}{dt} = y'(0) = -2$ and $y(0)=2$. \n",
    "\n",
    "Plot i) $y$ vs $t$ and ii) $y'$ vs $t$, for 100 values of $t$ between $0$ and $4\\pi$. \n",
    "</br>"
   ]
  },
  {
   "cell_type": "markdown",
   "id": "d0bb9c56-2f88-4161-a086-6b2da2ca2fed",
   "metadata": {},
   "source": [
    "#### Question 4\n",
    "\n",
    "\n",
    "Assume a hypothetical isolated island inhabited **only** by foxes and rabbits. The island is lush and full of greenery and has plenty of food for the rabbits, effectively giving them an *unlimited* food supply. The foxes on the other hand prey *exclusively* on the rabbits as they do not like eating fish from the sea. There are no other animals on the island (not even birds visit this island). Say at an instant of time $t_0$, the population density of rabbits on the island is $x$ and that of the foxes is $y$. The population dynamics on the island takes the following form:\n",
    "\n",
    "$$\\frac{dx}{dt} =  \\alpha x - \\beta xy$$\n",
    "$$\\frac{dy}{dt} = -\\gamma y + \\delta xy$$\n",
    "\n",
    "Here, $\\alpha, \\beta, \\gamma, \\delta$ are positive constants where $\\alpha$ specifies the growth rate of the rabbits, $\\beta$ specifies the rate at which the rabbits are hunted by foxes, $\\gamma$ specifies the death rate of foxes due to natural causes and $\\delta$ specifies the growth rate of foxes by hunting rabbits. Given $\\alpha = 0.1, \\beta = 0.002, \\gamma = 0.2, \\delta = 0.0025$, let $x(t_0) = 20 km^{-2}$ and $y(t_0) = 8 km^{-2}$. Find the change in population density of rabbits and foxes on the island within a span of **100 years**. What happens if instead of $x(t_0) = 20 km^{-2}$ and $y(t_0) = 4 km^{-2}$, one has:\n",
    "\n",
    "(a) $x(t_0) = 20 km^{-2}$ and $y(t_0) = 0 km^{-2}$\n",
    "\n",
    "(b) $x(t_0) = 20 km^{-2}$ and $y(t_0) = 20 km^{-2}$\n",
    "\n",
    "(c) $x(t_0) = 0 km^{-2}$ and $y(t_0) = 8 km^{-2}$\n",
    "\n",
    "(d) $x(t_0) = 8 km^{-2}$ and $y(t_0) = 8 km^{-2}$\n",
    "\n",
    "(e) $x(t_0) = 8 km^{-2}$ and $y(t_0) = 20 km^{-2}$\n",
    "\n",
    "Define a function that plots the population density (in units of per sq. km) of rabbits and foxes against time elapsed (in units of years) on the same figure for each of the 5 cases. Try to interpret the results.\n",
    "\n",
    "<br>"
   ]
  },
  {
   "cell_type": "markdown",
   "id": "77eff77b",
   "metadata": {},
   "source": [
    "### Challenge\n",
    "\n",
    "1. The working of a dye-based, single-mode microlaser can be modelled using the following equation of motion:\n",
    "\n",
    "$\n",
    "\\begin{eqnarray}\n",
    "\\frac{dn}{dt} &=& -\\kappa n + N_{mol} E(n+1) p_e, \\nonumber\\\\\n",
    "\\frac{dp_e}{dt} &=& -[\\Gamma_\\downarrow + E(n+1)]p_e + \\Gamma_\\uparrow(1-p_e),\n",
    "\\end{eqnarray}\n",
    "$\n",
    "\n",
    "where $n$ is the average number of photons inside the cavity, $N$ is total number of dye molecules inside the cavity, $p_e$ is the fraction of excited molecules, $E$ is the rates at which is photon emitted by the dye (absorption is assumed to be negligible), and finally $\\Gamma_\\uparrow$ and $\\Gamma_\\downarrow$ are the molecular pumping rate and molecular de-excitation rates, respectively. \n",
    "\n",
    "Consider the following system parameters, $N = 10^8$, with $E = 10^{-5}\\kappa$, $\\Gamma_\\downarrow = \\kappa/4$, and $\\Gamma_\\uparrow/\\Gamma_\\downarrow = 10^{-4}$.\n",
    "\n",
    "Write a function that allows you to find the steady state photon number, $n(t)=n_{ss}$, such that $\\frac{dn}{dt} = 0$ at some time $t$. Take time steps of 20 (in units of kappa), i.e., t_span = $[0,20]$. Moreover, the solution of the first time span can be taken as the initial state of the second. \n",
    "\n",
    "\n",
    "Note your function needs to check for steady state by ensuring that the photon number between two time steps change (absolute relative value) by a value smaller that $10^{-2}$ i.e., \n",
    "\n",
    "$\n",
    "\\frac{|n(t+\\Delta t)-n(t+\\Delta t)|}{n(t+\\Delta t)} < 10^{-2}.\n",
    "$\n",
    "\n",
    "\n",
    "2. In the above problem, change $\\Gamma_\\uparrow/\\Gamma_\\downarrow$ in the range $[10^{-6}, 10^{-2}]$, and by plotting the steady state photon number and the $\\Gamma_\\uparrow$ in the log scale, show that there is driven-dissipative phase transition in the microlaser system. "
   ]
  },
  {
   "cell_type": "code",
   "execution_count": 6,
   "id": "fc3e0a11-7da4-42e9-9dcd-e48fbc0f104a",
   "metadata": {},
   "outputs": [
    {
     "data": {
      "text/plain": [
       "np.float64(14960.284376334092)"
      ]
     },
     "execution_count": 6,
     "metadata": {},
     "output_type": "execute_result"
    }
   ],
   "source": [
    "## Challenge Q1\n",
    "\n",
    "import numpy as np\n",
    "from scipy.integrate import solve_ivp\n",
    "import matplotlib.pyplot as plt\n",
    "\n",
    "def microlaser(t,y,Gup=4*1e-4):\n",
    "    Nmol=1e8\n",
    "    k=1\n",
    "    E=1e-5\n",
    "    Gd=1/4\n",
    "    n = -1*k*y[0] + Nmol*E*(y[0]+1)*y[1]\n",
    "    p = -1*(Gd + E*(y[0]+1))*y[1] + Gup*(1-y[1])\n",
    "    return np.array([n,p])\n",
    "\n",
    "# Single run of the above ODE\n",
    "# t = np.linspace(0,500,100)\n",
    "# y_out = solve_ivp(microlaser, t_span = [0,500], y0 = np.array([0.0,0.0]), t_eval=t, args=(4*1e-6,))\n",
    "# plt.plot(t,y_out.y[0])\n",
    "\n",
    "# print (y_out.y[0])\n",
    "\n",
    "def steady_state(func,tstep = 20,num_runs=100,g=4*1e-4):\n",
    "    y_init = np.array([0.0,0.0])\n",
    "    i = 0\n",
    "    while i < num_runs:\n",
    "        t = [0,tstep/2,tstep]\n",
    "        y_out = solve_ivp(microlaser, t_span = [0,tstep], y0 = y_init, t_eval=t,args=(g,))\n",
    "#         print (np.abs((y_out.y[0][-1]-y_out.y[0][-2])/y_out.y[0][-1]))\n",
    "        if (np.abs((y_out.y[0][1]-y_out.y[0][0])/(y_out.y[0][0]+1e-10))) < 1e-2:\n",
    "            return y_out.y[0][-1] ## Returns only the steady state problem\n",
    "        else:\n",
    "            y_init = np.array([y_out.y[0][-1],y_out.y[1][-1]])\n",
    "        i += 1\n",
    "    print (\"No solutions obtained after all runs\")\n",
    "    \n",
    "steady_state(microlaser)  "
   ]
  },
  {
   "cell_type": "code",
   "execution_count": 29,
   "id": "bb83e1db-ff09-4c59-9f03-0e07c79ca019",
   "metadata": {},
   "outputs": [
    {
     "data": {
      "text/plain": [
       "Text(0, 0.5, 'Steady state')"
      ]
     },
     "execution_count": 29,
     "metadata": {},
     "output_type": "execute_result"
    },
    {
     "data": {
      "image/png": "[encoded data removed]",
      "text/plain": [
       "<Figure size 640x480 with 1 Axes>"
      ]
     },
     "metadata": {},
     "output_type": "display_data"
    }
   ],
   "source": [
    "## Challenge Q1\n",
    "\n",
    "G_up = 4*10**np.linspace(-6,-2,100)\n",
    "Ss = [steady_state(microlaser,g=4*g) for g in G_up]\n",
    "plt.loglog(G_up,Ss)\n",
    "plt.xlabel(r'${\\Gamma_\\uparrow}/{~\\Gamma_\\downarrow}$')\n",
    "plt.ylabel('Steady state')"
   ]
  },
  {
   "cell_type": "code",
   "execution_count": null,
   "id": "1d9cbd26-3a3b-4d8c-b534-879b7a367417",
   "metadata": {},
   "outputs": [],
   "source": []
  }
 ],
 "metadata": {
  "kernelspec": {
   "display_name": "Python 3 (ipykernel)",
   "language": "python",
   "name": "python3"
  },
  "language_info": {
   "codemirror_mode": {
    "name": "ipython",
    "version": 3
   },
   "file_extension": ".py",
   "mimetype": "text/x-python",
   "name": "python",
   "nbconvert_exporter": "python",
   "pygments_lexer": "ipython3",
   "version": "3.13.7"
  }
 },
 "nbformat": 4,
 "nbformat_minor": 5
}
