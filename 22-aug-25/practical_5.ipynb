{
 "cells": [
  {
   "cell_type": "markdown",
   "id": "62672c55",
   "metadata": {},
   "source": [
    "# 1. Determinant"
   ]
  },
  {
   "cell_type": "code",
   "execution_count": 29,
   "id": "e0bbb929",
   "metadata": {},
   "outputs": [
    {
     "name": "stdout",
     "output_type": "stream",
     "text": [
      "Matrix=\n",
      "[[ 1. -2.]\n",
      " [ 2.  3.]],\n",
      "Determinant=7.0\n",
      "Matrix=\n",
      "[[ 1. -2.  4.]\n",
      " [ 2.  3. -5.]\n",
      " [ 1. -2.  3.]],\n",
      "Determinant=-7.0\n"
     ]
    }
   ],
   "source": [
    "import numpy as np\n",
    "\n",
    "def determinant(matrix):\n",
    "    if len(matrix.shape) != 2 or matrix.shape[0] != matrix.shape[1] :\n",
    "        raise ValueError(f'matrix is empty or not square')\n",
    "    if matrix.shape[0] == 1:\n",
    "        return matrix[0][0]\n",
    "    elif matrix.shape[0] == 2:\n",
    "        return matrix[0, 0]*matrix[1, 1] - matrix[0, 1]*matrix[1, 0] \n",
    "    elif matrix.shape[0] == 3:\n",
    "        sum = 0\n",
    "        for i in range(3):\n",
    "            submatrix = np.zeros(shape=(2,2))\n",
    "            submatrix[0,0] = matrix[1, (i+1) % 3]\n",
    "            submatrix[0,1] = matrix[1, (i+2) % 3]\n",
    "            submatrix[1,0] = matrix[2, (i+1) % 3]\n",
    "            submatrix[1,1] = matrix[2, (i+2) % 3]\n",
    "            det = determinant(submatrix)\n",
    "            #print(f\"submatrix=\\n{submatrix},\\nDeterminant={det}\")\n",
    "            sum += det * matrix[0, i]\n",
    "        return sum\n",
    "    else:\n",
    "        raise ValueError(f'Not implemented for matrix size greater than 3x3')\n",
    "\n",
    "\n",
    "\n",
    "\n",
    "    \"\"\"\n",
    "    else:\n",
    "        sum = 0\n",
    "        for col in range(matrix.shape[0]):\n",
    "            submatrix = np.zeros(shape=(matrix.shape[0]-1, matrix.shape[0]-1))\n",
    "            for subcol in range(matrix.shape[0]).remove(col):\n",
    "                for subrow in range(matrix.shape[0]):\n",
    "                    if su\n",
    "            \n",
    "            sum += determinant()\n",
    "    \"\"\"\n",
    "\n",
    "# test\n",
    "matrix = np.zeros(shape=(2,2))\n",
    "matrix[0, 0],matrix[0, 1] = 1, -2\n",
    "matrix[1, 0],matrix[1, 1] = 2, 3\n",
    "print(f\"Matrix=\\n{matrix},\\nDeterminant={determinant(matrix)}\")\n",
    "matrix = np.zeros(shape=(3,3))\n",
    "matrix[0, 0], matrix[0, 1], matrix[0, 2] = 1, -2, 4\n",
    "matrix[1, 0], matrix[1, 1], matrix[1, 2] = 2, 3, -5\n",
    "matrix[2, 0], matrix[2, 1], matrix[2, 2] = 1, -2, 3\n",
    "print(f\"Matrix=\\n{matrix},\\nDeterminant={determinant(matrix)}\")\n"
   ]
  },
  {
   "cell_type": "markdown",
   "id": "77148341",
   "metadata": {},
   "source": [
    "# 2. Gram–Schmidt algorithm"
   ]
  },
  {
   "cell_type": "code",
   "execution_count": 36,
   "id": "6095b5cc",
   "metadata": {},
   "outputs": [
    {
     "name": "stdout",
     "output_type": "stream",
     "text": [
      "Vectors:\n",
      "[[2]\n",
      " [2]\n",
      " [3]],\n",
      "[[2]\n",
      " [5]\n",
      " [6]],\n",
      "[[-1]\n",
      " [ 2]\n",
      " [ 9]]\n",
      "The vectors are linearly independent\n",
      "Gram-Schmidt vectors:\n",
      "[[2]\n",
      " [2]\n",
      " [3]],\n",
      "[[-1.76470588]\n",
      " [ 1.23529412]\n",
      " [ 0.35294118]],\n",
      "[[-1.66666667]\n",
      " [-3.33333333]\n",
      " [ 3.33333333]]\n",
      "The Gram-Schmidt vectors are linearly independent\n"
     ]
    }
   ],
   "source": [
    "def dot_product(vector1, vector2):\n",
    "    if vector1.shape != (3, 1) or vector2.shape != (3, 1):\n",
    "        raise ValueError(f'Invalid shape of vectors!')\n",
    "    return vector1[0, 0]*vector2[0, 0] +\\\n",
    "        vector1[1, 0]*vector2[1, 0] +\\\n",
    "        vector1[2, 0]*vector2[2, 0]\n",
    "\n",
    "def check_orthogonal(vector1, vector2, vector3):\n",
    "    if vector1.shape != (3, 1) or vector2.shape != (3, 1) or vector3.shape != (3, 1):\n",
    "        raise ValueError(f'Invalid shape of vectors!')\n",
    "    matrix = np.hstack((vector1, vector2, vector3))\n",
    "    det = determinant(matrix)\n",
    "    return det != 0\n",
    "\n",
    "def gram_schmidt(vector1, vector2, vector3):\n",
    "    print(f'Vectors:\\n{vector1},\\n{vector2},\\n{vector3}')\n",
    "\n",
    "    if vector1.shape != (3, 1) or vector2.shape != (3, 1) or vector3.shape != (3, 1):\n",
    "        raise ValueError(f'Invalid shape of vectors!')\n",
    "    ortho = check_orthogonal(vector1, vector2, vector3)\n",
    "    if not ortho:\n",
    "        raise ValueError(f\"The vectors are linearly dependent\")\n",
    "    else:\n",
    "        print(f\"The vectors are linearly independent\")\n",
    "\n",
    "    w1 = vector1\n",
    "    w1_mod = dot_product(w1, w1)\n",
    "    w2 = vector2 - (dot_product(vector2, w1) / w1_mod)*w1\n",
    "    w2_mod = dot_product(w2, w2)\n",
    "    w3 = vector3 - (dot_product(vector3, w1) / w1_mod)*w1 - (dot_product(vector3, w2) / w2_mod)*w2\n",
    "\n",
    "    return (w1, w2, w3)\n",
    "\n",
    "\n",
    "vector1 = np.array([2, 2, 3]).reshape(-1,1)\n",
    "vector2 = np.array([2, 5, 6]).reshape(-1,1)\n",
    "vector3 = np.array([-1, 2, 9]).reshape(-1,1)\n",
    "w1, w2, w3 = gram_schmidt(vector1, vector2, vector3)\n",
    "print(f'Gram-Schmidt vectors:\\n{w1},\\n{w2},\\n{w3}')\n",
    "ortho = check_orthogonal(w1, w2, w3)\n",
    "if not ortho:\n",
    "    raise ValueError(f\"The Gram-Schmidt vectors are linearly dependent!\")\n",
    "else:\n",
    "    print(f\"The Gram-Schmidt vectors are linearly independent\")\n",
    "\n"
   ]
  },
  {
   "cell_type": "markdown",
   "id": "896ec913",
   "metadata": {},
   "source": [
    "# 3. Estimate Pi"
   ]
  },
  {
   "cell_type": "code",
   "execution_count": 41,
   "id": "917c588e",
   "metadata": {},
   "outputs": [
    {
     "name": "stdout",
     "output_type": "stream",
     "text": [
      "n=1000, pi=3.02\n",
      "n=10000, pi=3.1448\n",
      "n=100000, pi=3.14808\n",
      "n=1000000, pi=3.14076\n",
      "n=10000000, pi=3.1410336\n"
     ]
    }
   ],
   "source": [
    "def estimate_pi(n=100):\n",
    "    inside_circle = 0\n",
    "    for i in range(n):\n",
    "        x = -0.5 + np.random.random()\n",
    "        y = -0.5 + np.random.random()\n",
    "        r = np.sqrt(x*x + y*y)\n",
    "        if r < 0.5: inside_circle += 1\n",
    "\n",
    "    return inside_circle * 4/ n\n",
    "\n",
    "# test\n",
    "for n in [int(1e3), int(1e4), int(1e5), int(1e6), int(1e7)]:\n",
    "    print(f'n={n}, pi={estimate_pi(n)}')\n"
   ]
  }
 ],
 "metadata": {
  "kernelspec": {
   "display_name": "base",
   "language": "python",
   "name": "python3"
  },
  "language_info": {
   "codemirror_mode": {
    "name": "ipython",
    "version": 3
   },
   "file_extension": ".py",
   "mimetype": "text/x-python",
   "name": "python",
   "nbconvert_exporter": "python",
   "pygments_lexer": "ipython3",
   "version": "3.12.2"
  }
 },
 "nbformat": 4,
 "nbformat_minor": 5
}
