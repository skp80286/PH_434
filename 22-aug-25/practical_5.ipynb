{
 "cells": [
  {
   "cell_type": "markdown",
   "id": "62672c55",
   "metadata": {},
   "source": [
    "# 1. Determinant"
   ]
  },
  {
   "cell_type": "code",
   "execution_count": 6,
   "id": "e0bbb929",
   "metadata": {},
   "outputs": [
    {
     "name": "stdout",
     "output_type": "stream",
     "text": [
      "Matrix=\n",
      "[[ 1. -2.]\n",
      " [ 2.  3.]],\n",
      "Determinant=7.0\n",
      "Matrix=\n",
      "[[ 1. -2.  4.]\n",
      " [ 2.  3. -5.]\n",
      " [ 1. -2.  3.]],\n",
      "Determinant=-7.0\n"
     ]
    }
   ],
   "source": [
    "import numpy as np\n",
    "\n",
    "def determinant(matrix):\n",
    "    if len(matrix.shape) != 2 or matrix.shape[0] != matrix.shape[1] :\n",
    "        raise ValueError(f'matrix is empty or not square')\n",
    "    if matrix.shape[0] == 1:\n",
    "        return matrix[0][0]\n",
    "    elif matrix.shape[0] == 2:\n",
    "        return matrix[0, 0]*matrix[1, 1] - matrix[0, 1]*matrix[1, 0] \n",
    "    elif matrix.shape[0] == 3:\n",
    "        sum = 0\n",
    "        for i in range(3):\n",
    "            submatrix = np.zeros(shape=(2,2))\n",
    "            submatrix[0,0] = matrix[1, (i+1) % 3]\n",
    "            submatrix[0,1] = matrix[1, (i+2) % 3]\n",
    "            submatrix[1,0] = matrix[2, (i+1) % 3]\n",
    "            submatrix[1,1] = matrix[2, (i+2) % 3]\n",
    "            det = determinant(submatrix)\n",
    "            #print(f\"submatrix=\\n{submatrix},\\nDeterminant={det}\")\n",
    "            sum += det * matrix[0, i]\n",
    "        return sum\n",
    "    else:\n",
    "        raise ValueError(f'Not implemented for matrix size greater than 3x3')\n",
    "\n",
    "# test\n",
    "matrix = np.zeros(shape=(2,2))\n",
    "matrix[0, 0],matrix[0, 1] = 1, -2\n",
    "matrix[1, 0],matrix[1, 1] = 2, 3\n",
    "print(f\"Matrix=\\n{matrix},\\nDeterminant={determinant(matrix)}\")\n",
    "matrix = np.zeros(shape=(3,3))\n",
    "matrix[0, 0], matrix[0, 1], matrix[0, 2] = 1, -2, 4\n",
    "matrix[1, 0], matrix[1, 1], matrix[1, 2] = 2, 3, -5\n",
    "matrix[2, 0], matrix[2, 1], matrix[2, 2] = 1, -2, 3\n",
    "print(f\"Matrix=\\n{matrix},\\nDeterminant={determinant(matrix)}\")\n"
   ]
  },
  {
   "cell_type": "markdown",
   "id": "77148341",
   "metadata": {},
   "source": [
    "# 2. Gram–Schmidt algorithm"
   ]
  },
  {
   "cell_type": "code",
   "execution_count": 7,
   "id": "6095b5cc",
   "metadata": {},
   "outputs": [
    {
     "name": "stdout",
     "output_type": "stream",
     "text": [
      "Vectors:\n",
      "[[2]\n",
      " [2]\n",
      " [3]],\n",
      "[[2]\n",
      " [5]\n",
      " [6]],\n",
      "[[-1]\n",
      " [ 2]\n",
      " [ 9]]\n",
      "The vectors are linearly independent\n",
      "Gram-Schmidt vectors:\n",
      "[[2]\n",
      " [2]\n",
      " [3]],\n",
      "[[-1.76470588]\n",
      " [ 1.23529412]\n",
      " [ 0.35294118]],\n",
      "[[-1.66666667]\n",
      " [-3.33333333]\n",
      " [ 3.33333333]]\n",
      "The Gram-Schmidt vectors are linearly independent\n"
     ]
    }
   ],
   "source": [
    "def dot_product(vector1, vector2):\n",
    "    if vector1.shape != (3, 1) or vector2.shape != (3, 1):\n",
    "        raise ValueError(f'Invalid shape of vectors!')\n",
    "    return vector1[0, 0]*vector2[0, 0] +\\\n",
    "        vector1[1, 0]*vector2[1, 0] +\\\n",
    "        vector1[2, 0]*vector2[2, 0]\n",
    "\n",
    "def check_orthogonal(vector1, vector2, vector3):\n",
    "    if vector1.shape != (3, 1) or vector2.shape != (3, 1) or vector3.shape != (3, 1):\n",
    "        raise ValueError(f'Invalid shape of vectors!')\n",
    "    matrix = np.hstack((vector1, vector2, vector3))\n",
    "    det = determinant(matrix)\n",
    "    return det != 0\n",
    "\n",
    "def gram_schmidt(vector1, vector2, vector3):\n",
    "    print(f'Vectors:\\n{vector1},\\n{vector2},\\n{vector3}')\n",
    "\n",
    "    if vector1.shape != (3, 1) or vector2.shape != (3, 1) or vector3.shape != (3, 1):\n",
    "        raise ValueError(f'Invalid shape of vectors!')\n",
    "    ortho = check_orthogonal(vector1, vector2, vector3)\n",
    "    if not ortho:\n",
    "        raise ValueError(f\"The vectors are linearly dependent\")\n",
    "    else:\n",
    "        print(f\"The vectors are linearly independent\")\n",
    "\n",
    "    w1 = vector1\n",
    "    w1_mod = dot_product(w1, w1)\n",
    "    w2 = vector2 - (dot_product(vector2, w1) / w1_mod)*w1\n",
    "    w2_mod = dot_product(w2, w2)\n",
    "    w3 = vector3 - (dot_product(vector3, w1) / w1_mod)*w1 - (dot_product(vector3, w2) / w2_mod)*w2\n",
    "\n",
    "    return (w1, w2, w3)\n",
    "\n",
    "\n",
    "vector1 = np.array([2, 2, 3]).reshape(-1,1)\n",
    "vector2 = np.array([2, 5, 6]).reshape(-1,1)\n",
    "vector3 = np.array([-1, 2, 9]).reshape(-1,1)\n",
    "w1, w2, w3 = gram_schmidt(vector1, vector2, vector3)\n",
    "print(f'Gram-Schmidt vectors:\\n{w1},\\n{w2},\\n{w3}')\n",
    "ortho = check_orthogonal(w1, w2, w3)\n",
    "if not ortho:\n",
    "    raise ValueError(f\"The Gram-Schmidt vectors are linearly dependent!\")\n",
    "else:\n",
    "    print(f\"The Gram-Schmidt vectors are linearly independent\")\n",
    "\n"
   ]
  },
  {
   "cell_type": "markdown",
   "id": "896ec913",
   "metadata": {},
   "source": [
    "# 3. Estimate Pi"
   ]
  },
  {
   "cell_type": "code",
   "execution_count": 8,
   "id": "917c588e",
   "metadata": {},
   "outputs": [
    {
     "name": "stdout",
     "output_type": "stream",
     "text": [
      "n=1000, pi=3.104\n",
      "n=10000, pi=3.1576\n",
      "n=100000, pi=3.14248\n",
      "n=1000000, pi=3.140252\n",
      "n=10000000, pi=3.1423928\n"
     ]
    }
   ],
   "source": [
    "import numpy as np\n",
    "def estimate_pi(n=100):\n",
    "    inside_circle = 0\n",
    "    X = -0.5 + np.random.random(size=n)\n",
    "    Y = -0.5 + np.random.random(size=n)\n",
    "    for x, y in zip(X, Y):\n",
    "        r = np.sqrt(x*x + y*y)\n",
    "        if r < 0.5: inside_circle += 1\n",
    "\n",
    "    return inside_circle * 4/ n\n",
    "\n",
    "# test\n",
    "for n in [int(1e3), int(1e4), int(1e5), int(1e6), int(1e7)]:\n",
    "    print(f'n={n}, pi={estimate_pi(n)}')\n"
   ]
  },
  {
   "cell_type": "markdown",
   "id": "8ec86cde",
   "metadata": {},
   "source": [
    "# 4. Code reading\n",
    "\n",
    "## i: \n",
    "prints the first column of matri (1, -1), then prints the second column of the matrix (1, 1).\n",
    "## ii: \n",
    "Error due to accessing array element out of bounds! The code tries to access (i+1) index. It will fail on the last row of the matrix.\n",
    "## iii: \n",
    "The last reshape command will fail as 5*3 is not equal to 16\n",
    "\n"
   ]
  },
  {
   "cell_type": "markdown",
   "id": "0fafcffe",
   "metadata": {},
   "source": [
    "# Challenge: Ising model and Metropolis algorithm"
   ]
  },
  {
   "cell_type": "code",
   "execution_count": null,
   "id": "17da286e",
   "metadata": {},
   "outputs": [
    {
     "name": "stdout",
     "output_type": "stream",
     "text": [
      "Metrolpolis: T=4, E=-0.1, reject_count=243899\n",
      "Metrolpolis: T=4, E=-0.1, reject_count=245498\n",
      "Metrolpolis: T=4, E=0.1, reject_count=244019\n",
      "Metrolpolis: T=4, E=-0.5, reject_count=245116\n",
      "Metrolpolis: T=4, E=-0.3, reject_count=245093\n",
      "Metrolpolis: T=4, E=0.1, reject_count=244808\n",
      "Metrolpolis: T=4, E=-0.5, reject_count=244629\n",
      "Metrolpolis: T=4, E=-0.1, reject_count=244515\n",
      "Metrolpolis: T=4, E=-0.1, reject_count=244024\n",
      "Metrolpolis: T=4, E=-0.1, reject_count=245487\n"
     ]
    },
    {
     "data": {
      "image/png": "[encoded data removed]",
      "text/plain": [
       "<Figure size 640x480 with 1 Axes>"
      ]
     },
     "metadata": {},
     "output_type": "display_data"
    }
   ],
   "source": [
    "def energy(state, J):\n",
    "    sum = 0\n",
    "    for i in range(len(state) - 1):\n",
    "        sum += state[i]*state[i+1]\n",
    "    return -J*sum\n",
    "\n",
    "def metropolis(T, iter=1000000, N=10, J=1):\n",
    "    state = np.random.choice([1, -1], size=N)\n",
    "    kbT = T\n",
    "    reject_count = 0\n",
    "    E = energy(state, J)\n",
    "    stats = {'E': np.zeros(shape=(iter)), 'reject_count':  np.zeros(shape=(iter))}\n",
    "    for i in range(iter):    \n",
    "        flip_index = np.random.randint(0, N)\n",
    "        state[flip_index] *= -1\n",
    "        E1 = energy(state, J)\n",
    "        delta_E = E1-E\n",
    "        accept = False\n",
    "        if delta_E < 0:\n",
    "            accept = True\n",
    "        else:\n",
    "            accept_threshold = np.exp(-delta_E/kbT)\n",
    "            if np.random.random() < accept_threshold:\n",
    "                accept = True\n",
    "        if not accept:\n",
    "            state[flip_index] *= -1\n",
    "            reject_count += 1\n",
    "        else:\n",
    "            E = E1\n",
    "        stats['reject_count'][i] = reject_count\n",
    "        stats['E'][i] = E\n",
    "    mean_E = E/N\n",
    "    return stats, state, mean_E, reject_count\n",
    "\n",
    "#  test\n",
    "import matplotlib.pyplot as plt\n",
    "\n",
    "avg_E = []\n",
    "temperatures = np.logspace(-2, 5, 40)\n",
    "for T in temperatures:\n",
    "    stats, state, E, reject_count = metropolis(T)\n",
    "    print(f'Metrolpolis: T={T}, E={E}, reject_count={reject_count}')\n",
    "    avg_E.append(E)\n",
    "    #plt.plot(stats['E'])\n",
    "    #plt.show()\n",
    "\"\"\"\n",
    "T=4\n",
    "for i in range(10):\n",
    "    stats, state, E, reject_count = metropolis(T)\n",
    "    print(f'Metrolpolis: T={T}, E={E}, reject_count={reject_count}')\n",
    "    avg_E.append(E)\n",
    "\"\"\"\n",
    "plt.plot(avg_E, marker='o')\n",
    "plt.xscale('log')\n",
    "plt.show()"
   ]
  }
 ],
 "metadata": {
  "kernelspec": {
   "display_name": "base",
   "language": "python",
   "name": "python3"
  },
  "language_info": {
   "codemirror_mode": {
    "name": "ipython",
    "version": 3
   },
   "file_extension": ".py",
   "mimetype": "text/x-python",
   "name": "python",
   "nbconvert_exporter": "python",
   "pygments_lexer": "ipython3",
   "version": "3.12.2"
  }
 },
 "nbformat": 4,
 "nbformat_minor": 5
}
