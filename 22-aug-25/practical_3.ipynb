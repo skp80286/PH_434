{
 "cells": [
  {
   "cell_type": "markdown",
   "id": "74704fdc",
   "metadata": {},
   "source": [
    "# 1. Complex conjugate  "
   ]
  },
  {
   "cell_type": "code",
   "execution_count": 8,
   "id": "d5e17c8d",
   "metadata": {},
   "outputs": [
    {
     "name": "stdout",
     "output_type": "stream",
     "text": [
      "Matrix A:\n",
      "a11 = 4 + 5i\n",
      "a12 = -1 + 6i\n",
      "a21 = 8 + -3i\n",
      "a22 = 0 + 4i\n",
      "\n",
      "Matrix A*T:\n",
      "a11 = 4 + -5i\n",
      "a12 = 8 + 3i\n",
      "a21 = -1 + -6i\n",
      "a22 = 0 + -4i\n"
     ]
    }
   ],
   "source": [
    "def print_matrix(A):\n",
    "    print(f\"a11 = {A[0][0]} + {A[0][1]}i\")\n",
    "    print(f\"a12 = {A[1][0]} + {A[1][1]}i\")\n",
    "    print(f\"a21 = {A[2][0]} + {A[2][1]}i\")\n",
    "    print(f\"a22 = {A[3][0]} + {A[3][1]}i\")\n",
    "\n",
    "elems=[4,5,-1,6,8,-3,0,4]\n",
    "\n",
    "A = [(4,5),(-1,6),(8,-3),(0,4)]\n",
    "\n",
    "print(f\"Matrix A:\")\n",
    "print_matrix(A)\n",
    "print()\n",
    "\n",
    "B = []\n",
    "B.append((A[0][0], -A[0][1]))\n",
    "B.append((A[2][0], -A[2][1]))\n",
    "B.append((A[1][0], -A[1][1]))\n",
    "B.append((A[3][0], -A[3][1]))\n",
    "\n",
    "print(f\"Matrix A*T:\")\n",
    "print_matrix(B)"
   ]
  },
  {
   "cell_type": "markdown",
   "id": "690c1be6",
   "metadata": {},
   "source": [
    "# 2. Voter list"
   ]
  },
  {
   "cell_type": "code",
   "execution_count": 25,
   "id": "63763391",
   "metadata": {},
   "outputs": [],
   "source": [
    "voters = []\n"
   ]
  },
  {
   "cell_type": "markdown",
   "id": "a8d8465a",
   "metadata": {},
   "source": [
    "## Addition"
   ]
  },
  {
   "cell_type": "code",
   "execution_count": 36,
   "id": "98ca26d2",
   "metadata": {},
   "outputs": [
    {
     "name": "stdout",
     "output_type": "stream",
     "text": [
      "[('John', '23h3434', 'Phys'), ('Jack', '34S4857', 'Engigg'), ('Chen', '34D3454', 'History')]\n"
     ]
    }
   ],
   "source": [
    "\n",
    "name = input(\"Enter a name: \")\n",
    "roll = input(\"Enter the roll number: \")\n",
    "dept = input(\"Enter the department: \")\n",
    "\n",
    "voters.append((name, roll, dept))\n",
    "\n",
    "print(voters)"
   ]
  },
  {
   "cell_type": "markdown",
   "id": "8141bfe2",
   "metadata": {},
   "source": [
    "## Deletion"
   ]
  },
  {
   "cell_type": "code",
   "execution_count": 39,
   "id": "5a37ee65",
   "metadata": {},
   "outputs": [
    {
     "name": "stdout",
     "output_type": "stream",
     "text": [
      "[('John', '23h3434', 'Phys'), ('Jack', '34S4857', 'Engigg')]\n",
      "[('John', '23h3434', 'Phys')]\n"
     ]
    }
   ],
   "source": [
    "print(voters)\n",
    "d = int(input(\"Enter the index of the voter to be deleted: \"))\n",
    "del voters[d]\n",
    "print(voters)"
   ]
  },
  {
   "cell_type": "markdown",
   "id": "ef1ae14b",
   "metadata": {},
   "source": [
    "# 3. Trace and determinant"
   ]
  },
  {
   "cell_type": "code",
   "execution_count": 18,
   "id": "11e3e9ef",
   "metadata": {},
   "outputs": [
    {
     "name": "stdout",
     "output_type": "stream",
     "text": [
      "Matrix: ((1, 4, -4), (-3, 5, -6), (0, -4, 3))\n",
      "Trace of the matrix = 9\n",
      "Determinant of the matrix = -21\n"
     ]
    }
   ],
   "source": [
    "\n",
    "A = ((1, 4, -4), (-3, 5, -6), (0, -4, 3))\n",
    "print(f\"Matrix: {A}\")\n",
    "\n",
    "trace = A[0][0] + A[1][1] + A[2][2]\n",
    "print(f\"Trace of the matrix = {trace}\")\n",
    "\n",
    "determinant = A[0][0] * (A[1][1]*A[2][2] - A[1][2]*A[2][1]) - A[0][1] * (A[1][0]*A[2][2] - A[1][2]*A[2][0]) + A[0][2] * (A[1][0]*A[2][1] - A[1][1]*A[2][0]) \n",
    "\n",
    "print(f\"Determinant of the matrix = {determinant}\")"
   ]
  },
  {
   "cell_type": "markdown",
   "id": "5678c494",
   "metadata": {},
   "source": [
    "# 4. Tensor product"
   ]
  },
  {
   "cell_type": "code",
   "execution_count": 21,
   "id": "aaf042ea",
   "metadata": {},
   "outputs": [
    {
     "name": "stdout",
     "output_type": "stream",
     "text": [
      "((1, -1), (2, -3))\n",
      "((4, -5), (-3, 2))\n",
      "Tensor product: \n",
      "((4, -5, -4, 5), (-3, 2, 3, -2), (8, -10, -12, 15), (-6, 4, 9, -6))\n"
     ]
    }
   ],
   "source": [
    "A = ((1, -1), (2, -3))\n",
    "B = ((4, -5), (-3, 2))\n",
    "\n",
    "print(A)\n",
    "print(B)\n",
    "C = ((A[0][0]*B[0][0], A[0][0]*B[0][1], A[0][1]*B[0][0], A[0][1]*B[0][1]),\n",
    "(A[0][0]*B[1][0], A[0][0]*B[1][1], A[0][1]*B[1][0], A[0][1]*B[1][1]),\n",
    "(A[1][0]*B[0][0], A[1][0]*B[0][1], A[1][1]*B[0][0], A[1][1]*B[0][1]),\n",
    "(A[1][0]*B[1][0], A[1][0]*B[1][1], A[1][1]*B[1][0], A[1][1]*B[1][1]))\n",
    "print(\"Tensor product: \")\n",
    "print(C)"
   ]
  },
  {
   "cell_type": "markdown",
   "id": "304cbe60",
   "metadata": {},
   "source": [
    "# 5. Pauli matrices"
   ]
  },
  {
   "cell_type": "code",
   "execution_count": 24,
   "id": "894e69e3",
   "metadata": {},
   "outputs": [
    {
     "name": "stdout",
     "output_type": "stream",
     "text": [
      "Matrix A: (((1, 0), (1.5, 1)), ((1.5, -1), (-2, 0)))\n",
      "a=-0.5 + 0.0i\n",
      "b=1.5 + 0.0i\n",
      "c=-1.0 + -0.0i\n",
      "d=1.5 + 0.0i\n"
     ]
    }
   ],
   "source": [
    "A = (((1,0), (1.5,1)),((1.5,-1), (-2,0)))\n",
    "\n",
    "print(f\"Matrix A: {A}\")\n",
    "\n",
    "a=(0.5*(A[0][0][0]+A[1][1][0]) , 0.5*(A[0][0][1]+A[1][1][1]))\n",
    "\n",
    "b=(0.5*(A[0][1][0]+A[1][0][0]), 0.5*(A[0][1][1]+A[1][0][1]))\n",
    "\n",
    "c=(0.5*(-A[0][1][1]+A[1][0][1]), -0.5*(-A[0][1][0]+A[1][0][0]) )\n",
    "\n",
    "d=(0.5*(A[0][0][0]-A[1][1][0]) , 0.5*(A[0][0][1]-A[1][1][1]))\n",
    "\n",
    "print(f\"a={a[0]} + {a[1]}i\")\n",
    "print(f\"b={b[0]} + {b[1]}i\")\n",
    "print(f\"c={c[0]} + {c[1]}i\")\n",
    "print(f\"d={d[0]} + {d[1]}i\")"
   ]
  },
  {
   "cell_type": "markdown",
   "id": "f9614f15",
   "metadata": {},
   "source": [
    "# Challenge"
   ]
  },
  {
   "cell_type": "code",
   "execution_count": 49,
   "id": "318f058e",
   "metadata": {},
   "outputs": [
    {
     "name": "stdout",
     "output_type": "stream",
     "text": [
      "number of particles checked=10, probability of overlap=0.00\n",
      "number of particles checked=100, probability of overlap=0.00\n",
      "number of particles checked=1000, probability of overlap=0.01\n",
      "number of particles checked=10000, probability of overlap=1.00\n",
      "\n",
      "probability of overlap=0.1 number of particles to check=22.25\n",
      "probability of overlap=0.5 number of particles to check=49.75\n",
      "probability of overlap=0.99 number of particles to check=70.00\n"
     ]
    }
   ],
   "source": [
    "import math\n",
    "def probability(x, n = 10000):\n",
    "    all_combs = (n/2)*(n-1)\n",
    "    checked_combs = (x/2)*(x-1)\n",
    "    prob = checked_combs / all_combs\n",
    "    return prob\n",
    "# test cases\n",
    "testcases = [10, 100, 1000, 10000]\n",
    "for x in testcases:\n",
    "    print(f\"number of particles checked={x}, probability of overlap={probability(x):.2f}\")\n",
    "\n",
    "print()\n",
    "def find_x_from_prob(prob, n = 100):\n",
    "    all_combs = (n/2)*(n-1)\n",
    "    checked_combs = prob * all_combs\n",
    "    x = math.sqrt(checked_combs)\n",
    "    return x\n",
    "testcases = [.1, 0.5, 0.99]\n",
    "for prob in testcases:\n",
    "    print(f\"probability of overlap={prob} number of particles to check={find_x_from_prob(prob):.2f}\")\n"
   ]
  }
 ],
 "metadata": {
  "kernelspec": {
   "display_name": "base",
   "language": "python",
   "name": "python3"
  },
  "language_info": {
   "codemirror_mode": {
    "name": "ipython",
    "version": 3
   },
   "file_extension": ".py",
   "mimetype": "text/x-python",
   "name": "python",
   "nbconvert_exporter": "python",
   "pygments_lexer": "ipython3",
   "version": "3.12.2"
  }
 },
 "nbformat": 4,
 "nbformat_minor": 5
}
