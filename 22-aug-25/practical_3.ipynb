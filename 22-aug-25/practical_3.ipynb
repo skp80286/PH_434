{
 "cells": [
  {
   "cell_type": "markdown",
   "id": "74704fdc",
   "metadata": {},
   "source": [
    "# 1. Complex conjugate  "
   ]
  },
  {
   "cell_type": "code",
   "execution_count": 8,
   "id": "d5e17c8d",
   "metadata": {},
   "outputs": [
    {
     "name": "stdout",
     "output_type": "stream",
     "text": [
      "Matrix A:\n",
      "a11 = 4 + 5i\n",
      "a12 = -1 + 6i\n",
      "a21 = 8 + -3i\n",
      "a22 = 0 + 4i\n",
      "\n",
      "Matrix A*T:\n",
      "a11 = 4 + -5i\n",
      "a12 = 8 + 3i\n",
      "a21 = -1 + -6i\n",
      "a22 = 0 + -4i\n"
     ]
    }
   ],
   "source": [
    "def print_matrix(A):\n",
    "    print(f\"a11 = {A[0][0]} + {A[0][1]}i\")\n",
    "    print(f\"a12 = {A[1][0]} + {A[1][1]}i\")\n",
    "    print(f\"a21 = {A[2][0]} + {A[2][1]}i\")\n",
    "    print(f\"a22 = {A[3][0]} + {A[3][1]}i\")\n",
    "\n",
    "elems=[4,5,-1,6,8,-3,0,4]\n",
    "\n",
    "A = [(4,5),(-1,6),(8,-3),(0,4)]\n",
    "\n",
    "print(f\"Matrix A:\")\n",
    "print_matrix(A)\n",
    "print()\n",
    "\n",
    "B = []\n",
    "B.append((A[0][0], -A[0][1]))\n",
    "B.append((A[2][0], -A[2][1]))\n",
    "B.append((A[1][0], -A[1][1]))\n",
    "B.append((A[3][0], -A[3][1]))\n",
    "\n",
    "print(f\"Matrix A*T:\")\n",
    "print_matrix(B)"
   ]
  }
 ],
 "metadata": {
  "kernelspec": {
   "display_name": "base",
   "language": "python",
   "name": "python3"
  },
  "language_info": {
   "codemirror_mode": {
    "name": "ipython",
    "version": 3
   },
   "file_extension": ".py",
   "mimetype": "text/x-python",
   "name": "python",
   "nbconvert_exporter": "python",
   "pygments_lexer": "ipython3",
   "version": "3.12.2"
  }
 },
 "nbformat": 4,
 "nbformat_minor": 5
}
