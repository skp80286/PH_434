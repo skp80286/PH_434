{
 "cells": [
  {
   "cell_type": "code",
   "execution_count": 4,
   "id": "3e5891be",
   "metadata": {},
   "outputs": [
    {
     "name": "stdout",
     "output_type": "stream",
     "text": [
      "[1 0] \n",
      "\n",
      "[0 1] \n",
      "\n",
      "[[1. 0. 0. 0.]\n",
      " [0. 1. 0. 0.]\n",
      " [0. 0. 0. 1.]\n",
      " [0. 0. 1. 0.]]\n"
     ]
    }
   ],
   "source": [
    "import numpy as np\n",
    "import matplotlib.pyplot as plt\n",
    "from math import pi\n",
    "# import qutip as qu\n",
    "\n",
    "state_0 = np.array([1,0])\n",
    "state_1 = np.array([0,1])\n",
    "print (state_0,'\\n')\n",
    "print (state_1,'\\n')\n",
    "X = np.array([[0,1],[1,0]])\n",
    "H = (1/np.sqrt(2))*np.array([[1,1],[1,-1]]) # Hadamard gate\n",
    "Y = np.array([[0,-1j],[1j,0]])\n",
    "Z = np.array([[1,0],[0,-1]])\n",
    "S = np.array([[1,0],[0,-1j]])\n",
    "T = np.array([[1,0],[0,np.exp(1j*pi/4)]])\n",
    "\n",
    "#def U(θ,α,β,φ):\n",
    "#    return np.around(np.exp(1j*φ/2)*np.array([[np.exp(1j*α)*np.cos(θ), np.exp(1j*β)*[-1*np.exp(-1j*β)*np.sin(θ),np.exp(-1j*α)*np.cos(θ)]]]))\n",
    "\n",
    "#print (\"X =\",U(pi/2,0,pi/2,-pi),'\\n') # X from the general U(θ,ϕ,λ)\n",
    "#print (\"Y =\",U(pi/2,0,0,-pi),'\\n') # X from the general U(θ,ϕ,λ)\n",
    "\n",
    "proj_0 = np.outer(state_0,state_0) # top half of the identity matrix\n",
    "proj_1 = np.outer(state_1,state_1) # bottom half of the identity matrix\n",
    "U_cnot = np.kron(proj_0,np.eye(2))+np.kron(proj_1,X)\n",
    "print (U_cnot)"
   ]
  },
  {
   "cell_type": "code",
   "execution_count": 8,
   "id": "5e83df08",
   "metadata": {},
   "outputs": [
    {
     "name": "stdout",
     "output_type": "stream",
     "text": [
      "[0. 0. 1. 0.] \n",
      "\n",
      "[0 0 1 0]\n",
      "####################\n",
      "[0. 0. 0. 1.] \n",
      "\n",
      "[0 0 0 1]\n",
      "####################\n",
      "[0. 1. 0. 0.] \n",
      "\n",
      "[0 1 0 0]\n",
      "####################\n",
      "[1. 0. 0. 0.] \n",
      "\n",
      "[1 0 0 0]\n",
      "####################\n"
     ]
    },
    {
     "data": {
      "text/plain": [
       "array([ 0.        ,  0.70710678, -0.70710678,  0.        ])"
      ]
     },
     "execution_count": 8,
     "metadata": {},
     "output_type": "execute_result"
    }
   ],
   "source": [
    "print (U_cnot@(np.kron(state_1,state_1)),'\\n')\n",
    "print (np.kron(state_1,state_0))\n",
    "print('#'*20)\n",
    "print (U_cnot@(np.kron(state_1,state_0)),'\\n')\n",
    "print (np.kron(state_1,state_1))\n",
    "print('#'*20)\n",
    "print (U_cnot@(np.kron(state_0,state_1)),'\\n')\n",
    "print (np.kron(state_0,state_1))\n",
    "print('#'*20)\n",
    "print (U_cnot@(np.kron(state_0,state_0)),'\\n')\n",
    "print (np.kron(state_0,state_0))\n",
    "print('#'*20)\n",
    "\n",
    "U_cnot@(np.kron(H@state_1,state_1)) # Entangled singlet state"
   ]
  },
  {
   "cell_type": "code",
   "execution_count": 9,
   "id": "30befe83",
   "metadata": {},
   "outputs": [
    {
     "name": "stdout",
     "output_type": "stream",
     "text": [
      "[[ 1.          0.          0.          0.        ]\n",
      " [ 0.          1.          0.          0.        ]\n",
      " [ 0.          0.          0.70710678  0.70710678]\n",
      " [ 0.          0.          0.70710678 -0.70710678]]\n"
     ]
    }
   ],
   "source": [
    "U_H = np.kron(proj_0,np.eye(2))+np.kron(proj_1,H)\n",
    "print (U_H)"
   ]
  },
  {
   "cell_type": "markdown",
   "id": "408fab83",
   "metadata": {},
   "source": [
    "# Question 1. \n",
    "## Part 1- Write a function that creates the 3-qubit initial state"
   ]
  },
  {
   "cell_type": "code",
   "execution_count": 34,
   "id": "2de5b727",
   "metadata": {},
   "outputs": [],
   "source": [
    "def threequbit(i, j, k):\n",
    "    i1, i2, i3 = None, None, None\n",
    "    if i == 0: i1 = state_0\n",
    "    else: i1 = state_1\n",
    "    if j == 0: i2 = state_0 \n",
    "    else: i2 = state_1\n",
    "    if k == 0: i3 = state_0 \n",
    "    else: i3 = state_1\n",
    "    return np.kron(i1, np.kron(i2, i3))\n",
    "\n"
   ]
  },
  {
   "cell_type": "markdown",
   "id": "443d5b28",
   "metadata": {},
   "source": [
    "# Question 1. \n",
    "## Part 2- Write a function that implements the 3-qubit controlled-CNOT-CNOT gate"
   ]
  },
  {
   "cell_type": "code",
   "execution_count": 35,
   "id": "26bb8fc9",
   "metadata": {},
   "outputs": [
    {
     "name": "stdout",
     "output_type": "stream",
     "text": [
      "[0. 0. 0. 0. 1. 0. 0. 0.]\n",
      "[0 0 0 0 1 0 0 0]\n",
      "####################\n",
      "[0. 0. 0. 0. 0. 0. 1. 0.]\n",
      "[0 0 0 0 0 0 1 0]\n",
      "####################\n",
      "[0. 0. 0. 0. 0. 0. 0. 1.]\n",
      "[0 0 0 0 0 0 0 1]\n",
      "####################\n",
      "[0. 0. 0. 1. 0. 0. 0. 0.]\n",
      "[0 0 0 1 0 0 0 0]\n",
      "####################\n",
      "[0. 1. 0. 0. 0. 0. 0. 0.]\n",
      "[0 1 0 0 0 0 0 0]\n",
      "####################\n",
      "[1. 0. 0. 0. 0. 0. 0. 0.]\n",
      "[1 0 0 0 0 0 0 0]\n",
      "####################\n"
     ]
    }
   ],
   "source": [
    "\n",
    "\n",
    "U_cnot3 = np.kron(proj_0,np.kron(np.eye(2),np.eye(2))) + np.kron(proj_1,np.kron(X,X))\n",
    "\n",
    "print (U_cnot3@threequbit(1,1,1))\n",
    "print (np.kron(state_1,np.kron(state_0,state_0)))\n",
    "print('#'*20)\n",
    "\n",
    "print (U_cnot3@threequbit(1,0,1))\n",
    "print (np.kron(state_1,np.kron(state_1,state_0)))\n",
    "print('#'*20)\n",
    "\n",
    "print (U_cnot3@threequbit(1,0,0))\n",
    "print (np.kron(state_1,np.kron(state_1,state_1)))\n",
    "print('#'*20)\n",
    "\n",
    "print (U_cnot3@threequbit(0,1,1))\n",
    "print (np.kron(state_0,np.kron(state_1,state_1)))\n",
    "print('#'*20)\n",
    "\n",
    "print (U_cnot3@threequbit(0,0,1))\n",
    "print (np.kron(state_0,np.kron(state_0,state_1)))\n",
    "print('#'*20)\n",
    "\n",
    "print (U_cnot3@threequbit(0,0,0))\n",
    "print (np.kron(state_0,np.kron(state_0,state_0)))\n",
    "print('#'*20)\n",
    "\n"
   ]
  },
  {
   "cell_type": "markdown",
   "id": "eede8c70",
   "metadata": {},
   "source": [
    "# Question 1. \n",
    "## Part 3-  implement the circuit"
   ]
  },
  {
   "cell_type": "code",
   "execution_count": 36,
   "id": "620fb4ed",
   "metadata": {},
   "outputs": [
    {
     "data": {
      "text/plain": [
       "array([-0.5,  0. ,  0. ,  0.5,  0.5,  0. ,  0. ,  0.5])"
      ]
     },
     "execution_count": 36,
     "metadata": {},
     "output_type": "execute_result"
    }
   ],
   "source": [
    "np.kron(H,np.kron(np.eye(2),np.eye(2)))@U_cnot3@(np.kron(H@state_1,np.kron(state_1,state_1)))"
   ]
  },
  {
   "cell_type": "markdown",
   "id": "c077840c",
   "metadata": {},
   "source": [
    "# Question 2. Rotation"
   ]
  },
  {
   "cell_type": "code",
   "execution_count": 49,
   "id": "54c08f9b",
   "metadata": {},
   "outputs": [
    {
     "name": "stdout",
     "output_type": "stream",
     "text": [
      "[0.92387953-0.38268343j 0.        +0.j        ]\n",
      "[0.92387953-0.38268343j 0.        +0.j        ]\n"
     ]
    }
   ],
   "source": [
    "def Rz(theta): \n",
    "    theta *= np.pi/180\n",
    "    return np.array([[np.exp(-1j*theta/2), 0],[0, np.exp(1j*theta/2)]])\n",
    "\n",
    "def rotation(theta=45,n=[1,0,0]):\n",
    "    theta *= np.pi/180\n",
    "    rn = np.cos(theta/2)*np.eye(2) - 1j*np.sin(theta/2)*(n[0]*X+n[1]*Y+n[2]*Z)\n",
    "    return rn\n",
    "\n",
    "print(rotation(45, [0,0,1])@state_0)\n",
    "print(Rz(45)@state_0)"
   ]
  },
  {
   "cell_type": "markdown",
   "id": "0f16d627",
   "metadata": {},
   "source": [
    "# Question 3. Measurement"
   ]
  },
  {
   "cell_type": "code",
   "execution_count": 59,
   "id": "3a43724e",
   "metadata": {},
   "outputs": [
    {
     "name": "stdout",
     "output_type": "stream",
     "text": [
      "state before measurement = [0.5 0.5 0.5 0.5]\n",
      "1.0\n",
      "0.9999999999999998\n",
      "state after measurement - 1st bit collapse to 0 = [0.70710678 0.70710678 0.         0.        ]\n",
      "####################\n",
      "state before measurement = [0.5 0.5 0.5 0.5]\n",
      "1.0\n",
      "0.9999999999999998\n",
      "state after measurement - 1st bit collapse to 1 = [0.         0.         0.70710678 0.70710678]\n",
      "####################\n",
      "state before measurement = [0.5        0.25       0.5        0.66143783]\n",
      "1.0\n",
      "0.9999999999999999\n",
      "state after measurement - 1st bit collapse to 0 = [0.89442719 0.4472136  0.         0.        ]\n",
      "####################\n",
      "state before measurement = [0.5        0.25       0.5        0.66143783]\n",
      "1.0\n",
      "1.0\n",
      "state after measurement - 1st bit collapse to 1 = [0.         0.         0.60302269 0.79772404]\n",
      "####################\n"
     ]
    }
   ],
   "source": [
    "def check(state):    \n",
    "    print(np.sum(state**2) )\n",
    "    if np.sum(state**2) > 1.01 or  np.sum(state**2) < 0.99:\n",
    "        raise ValueError(np.sum(state**2) )\n",
    "\n",
    "def Meas(state,mi):\n",
    "    check(state)\n",
    "    # |0,0> , |0, 1>, |1, 0> , |1,1>\n",
    "    # collapse 1st qubit to state mi\n",
    "    # Then renormalize the probability based on the possible states\n",
    "    \n",
    "    if mi == 0: # First bit measured and got outcome 0.\n",
    "        state[2],state[3] = 0, 0\n",
    "    else:\n",
    "        state[0],state[1] = 0, 0\n",
    "\n",
    "    # Renormalize\n",
    "    # Sum squares of coefficients\n",
    "    sum = np.sum(state**2)\n",
    "    # Renormalize\n",
    "    state *= 1/np.sqrt(sum)\n",
    "\n",
    "    check(state)\n",
    "    return state\n",
    "\n",
    "state = np.array([0.5, 0.5, 0.5, 0.5])\n",
    "print(f'state before measurement = {state}')\n",
    "observed = 0\n",
    "print(f'state after measurement - 1st bit collapse to {observed} = {Meas(state, observed)}')\n",
    "print('#'*20)\n",
    "state = np.array([0.5, 0.5, 0.5, 0.5])\n",
    "print(f'state before measurement = {state}')\n",
    "observed = 1\n",
    "print(f'state after measurement - 1st bit collapse to {observed} = {Meas(state, observed)}')\n",
    "print('#'*20)\n",
    "state = np.array([0.5, 0.25, 0.5, 0.25*np.sqrt(7)])\n",
    "print(f'state before measurement = {state}')\n",
    "observed = 0\n",
    "print(f'state after measurement - 1st bit collapse to {observed} = {Meas(state, observed)}')\n",
    "print('#'*20)\n",
    "state = np.array([0.5, 0.25, 0.5, 0.25*np.sqrt(7)])\n",
    "print(f'state before measurement = {state}')\n",
    "observed = 1\n",
    "print(f'state after measurement - 1st bit collapse to {observed} = {Meas(state, observed)}')\n",
    "print('#'*20)\n"
   ]
  }
 ],
 "metadata": {
  "kernelspec": {
   "display_name": "base",
   "language": "python",
   "name": "python3"
  },
  "language_info": {
   "codemirror_mode": {
    "name": "ipython",
    "version": 3
   },
   "file_extension": ".py",
   "mimetype": "text/x-python",
   "name": "python",
   "nbconvert_exporter": "python",
   "pygments_lexer": "ipython3",
   "version": "3.12.2"
  }
 },
 "nbformat": 4,
 "nbformat_minor": 5
}
