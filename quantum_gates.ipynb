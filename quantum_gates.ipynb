{
 "cells": [
  {
   "cell_type": "code",
   "execution_count": 5,
   "id": "1e34cba1",
   "metadata": {},
   "outputs": [
    {
     "name": "stdout",
     "output_type": "stream",
     "text": [
      "[[1 0]\n",
      " [0 0]]\n",
      "[[0 0]\n",
      " [0 1]]\n",
      "[[1. 0. 0. 0.]\n",
      " [0. 1. 0. 0.]\n",
      " [0. 0. 0. 1.]\n",
      " [0. 0. 1. 0.]]\n"
     ]
    }
   ],
   "source": [
    "import numpy as np\n",
    "state0 = np.array([1,0])\n",
    "state1 = np.array([0,1])\n",
    "X = np.array([[0,1],[1,0]])\n",
    "proj0=np.outer(state0, state0)\n",
    "print(proj0)\n",
    "\n",
    "proj1=np.outer(state1, state1)\n",
    "print(proj1)\n",
    "\n",
    "U_cnot = np.kron(proj0, np.eye(2)) + np.kron(proj1, X)\n",
    "print(U_cnot)"
   ]
  }
 ],
 "metadata": {
  "kernelspec": {
   "display_name": "base",
   "language": "python",
   "name": "python3"
  },
  "language_info": {
   "codemirror_mode": {
    "name": "ipython",
    "version": 3
   },
   "file_extension": ".py",
   "mimetype": "text/x-python",
   "name": "python",
   "nbconvert_exporter": "python",
   "pygments_lexer": "ipython3",
   "version": "3.12.2"
  }
 },
 "nbformat": 4,
 "nbformat_minor": 5
}
